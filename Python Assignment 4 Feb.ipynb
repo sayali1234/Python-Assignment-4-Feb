{
 "cells": [
  {
   "cell_type": "markdown",
   "id": "86b28f29-78e4-40bd-b44e-6ac26fcc2c3c",
   "metadata": {},
   "source": [
    "Q1) Create a python program to sort the given list of tuples based on integer value using a lambda function.\n",
    "    [('Sachin Tendulkar', 34357), ('Ricky Ponting', 27483), ('Jack Kallis', 25534), ('Virat Kohli', 24936)]\n",
    "   "
   ]
  },
  {
   "cell_type": "code",
   "execution_count": 17,
   "id": "ce583ccd-a67b-43a1-a2cc-7d557a7b88fa",
   "metadata": {},
   "outputs": [
    {
     "name": "stdout",
     "output_type": "stream",
     "text": [
      "[('Virat Kohli', 24936), ('Jack Kallis', 25534), ('Ricky Ponting', 27483), ('Sachin Tendulkar', 34357)]\n"
     ]
    }
   ],
   "source": [
    "lst = [('Sachin Tendulkar', 34357), ('Ricky Ponting', 27483), ('Jack Kallis', 25534), ('Virat Kohli', 24936)]\n",
    "lst.sort(key = lambda x: x[1])\n",
    "print(lst)"
   ]
  },
  {
   "cell_type": "markdown",
   "id": "79c99d2a-7909-493c-a379-ee2dde15fea5",
   "metadata": {},
   "source": [
    "Q2) Write a Python Program to find the squares of all the numbers in the given list of integers using lambda and map functions.\n",
    "    [1, 2, 3, 4, 5, 6, 7, 8, 9,10] "
   ]
  },
  {
   "cell_type": "code",
   "execution_count": 1,
   "id": "d2b26a92-c404-4c1a-afa6-d3693031e931",
   "metadata": {},
   "outputs": [
    {
     "name": "stdout",
     "output_type": "stream",
     "text": [
      "[1, 4, 9, 16, 25, 36, 49, 64, 81, 100]\n"
     ]
    }
   ],
   "source": [
    "lst = [1, 2, 3, 4, 5, 6, 7, 8, 9, 10]\n",
    "new_lst = list(map(lambda x: x**2,lst))\n",
    "print(new_lst)"
   ]
  },
  {
   "cell_type": "markdown",
   "id": "579a491b-ca0c-49dc-a03b-b7bc83248a79",
   "metadata": {},
   "source": [
    "Q3) Write a python program to convert the given list of integers into a tuple of strings. Use map and lambda functions\n",
    "    Given String: [1, 2, 3, 4, 5, 6, 7, 8, 9, 10]\n",
    "    Expected output: ('1', '2', '3', '4', '5', '6', '7', '8', '9', '10')\n",
    "\n"
   ]
  },
  {
   "cell_type": "code",
   "execution_count": 2,
   "id": "0a2340d6-982f-4d92-834f-8ca84968ca6d",
   "metadata": {},
   "outputs": [
    {
     "name": "stdout",
     "output_type": "stream",
     "text": [
      "('1', '2', '3', '4', '5', '6', '7', '8', '9', '10')\n"
     ]
    }
   ],
   "source": [
    "lst = [1, 2, 3, 4, 5, 6, 7, 8, 9, 10]\n",
    "tup = tuple(map(lambda num : str(num), lst))\n",
    "print(tup)"
   ]
  },
  {
   "cell_type": "markdown",
   "id": "c213ef8f-3993-4326-a764-6c32f9ed9f05",
   "metadata": {},
   "source": [
    "Q4) Write a python program using reduce function to compute the product of a list containing numbers from 1 to 25.\n",
    "Ans:from functools import reduce\n",
    "\n"
   ]
  },
  {
   "cell_type": "code",
   "execution_count": 3,
   "id": "8fd496e8-a343-4638-b332-c82b6e351917",
   "metadata": {},
   "outputs": [
    {
     "name": "stdout",
     "output_type": "stream",
     "text": [
      "15511210043330985984000000\n"
     ]
    }
   ],
   "source": [
    "from functools import reduce\n",
    "\n",
    "lst = list(range(1,26))\n",
    "product = reduce(lambda x,y: x*y, lst)\n",
    "print(product)"
   ]
  },
  {
   "cell_type": "markdown",
   "id": "be293a8e-d982-4d6f-b453-62694152ac02",
   "metadata": {},
   "source": [
    "Q5) Write a python program to filter the numbers in a given list that are divisible by 2 and 3 using the filter function.\n",
    "    [2, 3, 6, 9, 27, 60, 90, 120, 55, 46]\n"
   ]
  },
  {
   "cell_type": "code",
   "execution_count": 4,
   "id": "7534355c-3eee-44da-845d-a13cc03e4967",
   "metadata": {},
   "outputs": [
    {
     "name": "stdout",
     "output_type": "stream",
     "text": [
      "[6, 60, 90, 120]\n"
     ]
    }
   ],
   "source": [
    "lst = [2, 3, 6, 9, 27, 60, 90, 120, 55, 46]\n",
    "new_lst = list(filter(lambda x : (x % 2 == 0) and (x % 3 == 0) , lst))\n",
    "print(new_lst)"
   ]
  },
  {
   "cell_type": "markdown",
   "id": "abbe8e3f-e0d4-432e-a16f-871875df8de3",
   "metadata": {},
   "source": [
    "Q6. Write a python program to find palindromes in the given list of strings using lambda and filter\n",
    "function.\n",
    "['python', 'php', 'aba', 'radar', 'level']"
   ]
  },
  {
   "cell_type": "code",
   "execution_count": 10,
   "id": "f435cd0f-6f5a-4a92-adea-555cfff9ae23",
   "metadata": {},
   "outputs": [
    {
     "name": "stdout",
     "output_type": "stream",
     "text": [
      "['php', 'aba', 'radar', 'level']\n"
     ]
    }
   ],
   "source": [
    "lst = ['python', 'php', 'aba', 'radar', 'level']\n",
    "new_lst = list(filter(lambda s : s == s[::-1] , lst))\n",
    "print(new_lst)"
   ]
  }
 ],
 "metadata": {
  "kernelspec": {
   "display_name": "Python 3 (ipykernel)",
   "language": "python",
   "name": "python3"
  },
  "language_info": {
   "codemirror_mode": {
    "name": "ipython",
    "version": 3
   },
   "file_extension": ".py",
   "mimetype": "text/x-python",
   "name": "python",
   "nbconvert_exporter": "python",
   "pygments_lexer": "ipython3",
   "version": "3.10.8"
  }
 },
 "nbformat": 4,
 "nbformat_minor": 5
}
